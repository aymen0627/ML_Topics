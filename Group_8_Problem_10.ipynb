{
  "nbformat": 4,
  "nbformat_minor": 0,
  "metadata": {
    "colab": {
      "provenance": []
    },
    "kernelspec": {
      "name": "python3",
      "display_name": "Python 3"
    },
    "language_info": {
      "name": "python"
    }
  },
  "cells": [
    {
      "cell_type": "code",
      "execution_count": null,
      "metadata": {
        "id": "baHeHjHvFzP3"
      },
      "outputs": [],
      "source": [
        "\n",
        "#Problem 10"
      ]
    },
    {
      "cell_type": "code",
      "source": [
        "\"\"\"\n",
        "\n",
        "In this problem, generate 20 data points, each containing 8 features. Use Gaussian\n",
        "distribution with 0 mean and 0.1 variance. Use PCA to reduce the 8 features, for every data point, into\n",
        "1, 2, and 3 features. Explain how the PCA matrix is constructed for each case. Use only Numpy.\n",
        "\"\"\""
      ],
      "metadata": {
        "id": "tnGyiehjF4me",
        "colab": {
          "base_uri": "https://localhost:8080/",
          "height": 53
        },
        "outputId": "b7fb6181-7a41-466c-9652-759d234e751b"
      },
      "execution_count": null,
      "outputs": [
        {
          "output_type": "execute_result",
          "data": {
            "text/plain": [
              "'\\n\\nIn this problem, generate 20 data points, each containing 8 features. Use Gaussian\\ndistribution with 0 mean and 0.1 variance. Use PCA to reduce the 8 features, for every data point, into\\n1, 2, and 3 features. Explain how the PCA matrix is constructed for each case. Use only Numpy.\\n'"
            ],
            "application/vnd.google.colaboratory.intrinsic+json": {
              "type": "string"
            }
          },
          "metadata": {},
          "execution_count": 2
        }
      ]
    },
    {
      "cell_type": "code",
      "execution_count": null,
      "metadata": {
        "id": "GtjUuoTmsCwe",
        "colab": {
          "base_uri": "https://localhost:8080/"
        },
        "outputId": "8a02a003-9b04-4372-b33d-929440480dbe"
      },
      "outputs": [
        {
          "output_type": "stream",
          "name": "stdout",
          "text": [
            "datapoint 0 =  [-0.41109936 -0.33930893  0.24988293 -0.27773194  0.47491776 -0.00756716\n",
            "  0.0872627  -0.30560033]\n",
            "datapoint 1 =  [-0.49973938 -0.06440758 -0.4894153  -0.12380243  0.34607517 -0.11879691\n",
            " -0.29685384  0.13103896]\n",
            "datapoint 2 =  [ 0.43054754  0.4360968   0.21090793  0.05437967  0.17622315  0.20701356\n",
            "  0.07888606 -0.19821543]\n",
            "datapoint 3 =  [ 0.1959256   0.1070823  -0.2846397  -0.25701818 -0.16764502  0.39749533\n",
            "  0.12105425  0.09704596]\n",
            "datapoint 4 =  [ 0.28729259 -0.25207392 -0.21518174  0.06670843 -0.12591516 -0.23277155\n",
            " -0.28967942 -0.15191694]\n",
            "datapoint 5 =  [ 0.08592852 -0.62205697  0.40346436  0.23477395  0.35706632 -0.17155397\n",
            " -0.04041742 -0.33625674]\n",
            "datapoint 6 =  [-0.28599726 -0.24328181 -0.17890868 -0.12875793  0.23699895  0.07925931\n",
            "  0.3869816   0.14885412]\n",
            "datapoint 7 =  [-0.07775584 -0.00198618 -0.27684164  0.85001411 -0.02739521 -0.00612189\n",
            " -0.00455989 -0.20450686]\n",
            "datapoint 8 =  [-0.74816952  0.0438504   0.22125228 -0.23477281  0.50358981  0.26055657\n",
            " -0.20945608 -0.0363982 ]\n",
            "datapoint 9 =  [-0.2766383  -0.46321962 -0.1916167  -0.25258563  0.41664142  0.16365176\n",
            "  0.00584991 -0.02843529]\n",
            "datapoint 10 =  [ 0.07836004  0.06032111  0.52300795 -0.14130354 -0.22857681  0.3146844\n",
            " -0.50556824 -0.44525616]\n",
            "datapoint 11 =  [ 0.40617254 -0.00704974 -0.51569898  0.18109722 -0.17779521  0.1604801\n",
            " -0.57244959 -0.26244836]\n",
            "datapoint 12 =  [ 0.06281325 -0.3596298   0.27973852 -0.17800076 -0.34705555 -0.22598256\n",
            "  0.40081062  0.13796286]\n",
            "datapoint 13 =  [-0.00309303  0.20654082  0.38438477 -0.26462157  0.25937986 -0.46865989\n",
            " -0.17920923 -0.11514099]\n",
            "datapoint 14 =  [ 0.10011955  0.1549982  -0.33692114  0.01525741 -0.02384063 -0.00766022\n",
            "  0.2972138  -0.0504369 ]\n",
            "datapoint 15 =  [ 0.30938985 -0.00981354  0.2200677   0.3952292   0.1343355   0.22680074\n",
            " -0.26687418  0.32657624]\n",
            "datapoint 16 =  [ 0.25711091  0.72088673  0.54493869  0.19651445 -0.16809813 -0.03650286\n",
            "  0.51093413 -0.15716953]\n",
            "datapoint 17 =  [-0.10356878  0.35059856 -0.47239996  0.03691561 -0.01189008 -0.17001749\n",
            " -0.15513533  0.06610299]\n",
            "datapoint 18 =  [-0.38958272 -0.41677604  0.49167452 -0.12101492  0.69381585 -0.03962903\n",
            "  0.42600119  0.20053812]\n",
            "datapoint 19 =  [ 0.61651583 -0.02134905  0.08377181 -0.4571513  -0.3701933  -0.44692602\n",
            "  0.41286189  0.32360543]\n"
          ]
        }
      ],
      "source": [
        "import numpy as np\n",
        "np.random.seed(seed=1111)\n",
        "# In this code, we show how to use PCA...\n",
        "# Generate some dataset... \n",
        "\n",
        "number_of_data_points = 20\n",
        "number_of_features_per_data_point = 8\n",
        "\n",
        "# stack the data into some list\n",
        "data = np.zeros(shape=(number_of_data_points,number_of_features_per_data_point))\n",
        "for data_index in range(number_of_data_points):\n",
        "  data_point = np.random.normal(loc = 0, scale=np.sqrt(.1), size=(number_of_features_per_data_point))\n",
        "  print(\"datapoint {} = \".format(data_index),data_point)\n",
        "  data[data_index,:] = data_point"
      ]
    },
    {
      "cell_type": "code",
      "source": [
        "# Next, we calculate the vector mean of the data: \n",
        "\n",
        "X_bar = np.mean(data,axis=0)\n",
        "print(\"X bar = \", X_bar)\n",
        "print(\"X bar is of size {}, which is equal to the number of features for each data point, {}\".format((X_bar.shape),number_of_features_per_data_point))"
      ],
      "metadata": {
        "colab": {
          "base_uri": "https://localhost:8080/"
        },
        "id": "k1pV2FKnsFT0",
        "outputId": "372187c7-4ebf-4f31-ad60-9714c323cf04"
      },
      "execution_count": null,
      "outputs": [
        {
          "output_type": "stream",
          "name": "stdout",
          "text": [
            "X bar =  [ 0.0017266  -0.03602891  0.03257338 -0.02029355  0.09753193 -0.00611239\n",
            "  0.01038265 -0.04300285]\n",
            "X bar is of size (8,), which is equal to the number of features for each data point, 8\n"
          ]
        }
      ]
    },
    {
      "cell_type": "code",
      "source": [
        "# Next, we compute the covariance matrix of the data. The covariance matrix is of size NXN\n",
        "print(\"The covariance of the data is size {} X {}.\".format(number_of_data_points,number_of_data_points))\n",
        "# For each row in the data matrix, we subtract the datapoint vector with the mean vector X_bar and save it in a data matrix\n",
        "\n",
        "data_matrix_minus_mean = np.zeros(shape=(number_of_data_points,number_of_features_per_data_point))\n",
        "for data_index in range(number_of_data_points):\n",
        "  data_matrix_minus_mean[data_index,:] = data[data_index,:] - X_bar\n",
        "print(data_matrix_minus_mean)"
      ],
      "metadata": {
        "colab": {
          "base_uri": "https://localhost:8080/"
        },
        "id": "7xeHsmqRswHC",
        "outputId": "ee7c028b-e7b7-4efb-bf28-fa6354813f26"
      },
      "execution_count": null,
      "outputs": [
        {
          "output_type": "stream",
          "name": "stdout",
          "text": [
            "The covariance of the data is size 20 X 20.\n",
            "[[-4.12825959e-01 -3.03280013e-01  2.17309546e-01 -2.57438387e-01\n",
            "   3.77385824e-01 -1.45476885e-03  7.68800504e-02 -2.62597474e-01]\n",
            " [-5.01465982e-01 -2.83786644e-02 -5.21988682e-01 -1.03508877e-01\n",
            "   2.48543237e-01 -1.12684518e-01 -3.07236482e-01  1.74041809e-01]\n",
            " [ 4.28820937e-01  4.72125717e-01  1.78334547e-01  7.46732197e-02\n",
            "   7.86912185e-02  2.13125949e-01  6.85034115e-02 -1.55212579e-01]\n",
            " [ 1.94198999e-01  1.43111216e-01 -3.17213078e-01 -2.36724629e-01\n",
            "  -2.65176957e-01  4.03607722e-01  1.10671602e-01  1.40048811e-01]\n",
            " [ 2.85565984e-01 -2.16045011e-01 -2.47755121e-01  8.70019785e-02\n",
            "  -2.23447095e-01 -2.26659159e-01 -3.00062070e-01 -1.08914088e-01]\n",
            " [ 8.42019163e-02 -5.86028057e-01  3.70890979e-01  2.55067495e-01\n",
            "   2.59534387e-01 -1.65441583e-01 -5.08000646e-02 -2.93253889e-01]\n",
            " [-2.87723862e-01 -2.07252892e-01 -2.11482059e-01 -1.08464384e-01\n",
            "   1.39467015e-01  8.53717008e-02  3.76598956e-01  1.91856976e-01]\n",
            " [-7.94824420e-02  3.40427356e-02 -3.09415019e-01  8.70307657e-01\n",
            "  -1.24927145e-01 -9.50398607e-06 -1.49425334e-02 -1.61504010e-01]\n",
            " [-7.49896122e-01  7.98793084e-02  1.88678900e-01 -2.14479262e-01\n",
            "   4.06057871e-01  2.66668958e-01 -2.19838728e-01  6.60465519e-03]\n",
            " [-2.78364902e-01 -4.27190711e-01 -2.24190084e-01 -2.32292078e-01\n",
            "   3.19109484e-01  1.69764150e-01 -4.53273783e-03  1.45675649e-02]\n",
            " [ 7.66334374e-02  9.63500256e-02  4.90434570e-01 -1.21009993e-01\n",
            "  -3.26108740e-01  3.20796791e-01 -5.15950888e-01 -4.02253308e-01]\n",
            " [ 4.04445940e-01  2.89791699e-02 -5.48272360e-01  2.01390770e-01\n",
            "  -2.75327141e-01  1.66592490e-01 -5.82832233e-01 -2.19445512e-01]\n",
            " [ 6.10866511e-02 -3.23600882e-01  2.47165140e-01 -1.57707209e-01\n",
            "  -4.44587485e-01 -2.19870167e-01  3.90427976e-01  1.80965715e-01]\n",
            " [-4.81963601e-03  2.42569728e-01  3.51811388e-01 -2.44328020e-01\n",
            "   1.61847926e-01 -4.62547507e-01 -1.89591874e-01 -7.21381373e-02]\n",
            " [ 9.83929495e-02  1.91027111e-01 -3.69494522e-01  3.55509557e-02\n",
            "  -1.21372564e-01 -1.54782727e-03  2.86831153e-01 -7.43405008e-03]\n",
            " [ 3.07663253e-01  2.62153707e-02  1.87494316e-01  4.15522745e-01\n",
            "   3.68035626e-02  2.32913132e-01 -2.77256827e-01  3.69579091e-01]\n",
            " [ 2.55384304e-01  7.56915641e-01  5.12365307e-01  2.16807996e-01\n",
            "  -2.65630062e-01 -3.03904747e-02  5.00551481e-01 -1.14166674e-01]\n",
            " [-1.05295378e-01  3.86627473e-01 -5.04973336e-01  5.72091552e-02\n",
            "  -1.09422019e-01 -1.63905104e-01 -1.65517974e-01  1.09105843e-01]\n",
            " [-3.91309319e-01 -3.80747125e-01  4.59101138e-01 -1.00721376e-01\n",
            "   5.96283918e-01 -3.35166414e-02  4.15618541e-01  2.43540969e-01]\n",
            " [ 6.14789230e-01  1.46798596e-02  5.11984306e-02 -4.36857756e-01\n",
            "  -4.67725235e-01 -4.40813637e-01  4.02479241e-01  3.66608285e-01]]\n"
          ]
        }
      ]
    },
    {
      "cell_type": "code",
      "source": [
        "# Now, for each vector in data_matrix_minus_mean, we compute the outer product matrix \n",
        "matricies_list = []\n",
        "for data_index in range(number_of_data_points):\n",
        "  outer_product_matrix = np.outer(data_matrix_minus_mean[data_index,:],data_matrix_minus_mean[data_index,:])\n",
        "  matricies_list.append(outer_product_matrix)\n",
        "\n",
        "Covariance_matrix = np.array ( (1/number_of_data_points) * sum(matricies_list) )\n",
        "\n",
        "print((Covariance_matrix))"
      ],
      "metadata": {
        "colab": {
          "base_uri": "https://localhost:8080/"
        },
        "id": "4_x8v9DsvB7I",
        "outputId": "60f89beb-d304-4ffa-9a9c-3180ffec4955"
      },
      "execution_count": null,
      "outputs": [
        {
          "output_type": "stream",
          "name": "stdout",
          "text": [
            "[[ 0.11730023  0.03551099  0.00200871  0.01966661 -0.07528854 -0.01098487\n",
            "   0.00323347 -0.00155793]\n",
            " [ 0.03551099  0.10188513 -0.00211975  0.01350572 -0.03594617  0.00797219\n",
            "   0.00025654 -0.00392955]\n",
            " [ 0.00200871 -0.00211975  0.12529856 -0.01457684  0.01875294 -0.00600595\n",
            "   0.02920082 -0.01315025]\n",
            " [ 0.01966661  0.01350572 -0.01457684  0.08226767 -0.00932793  0.00918602\n",
            "  -0.01738103 -0.01509612]\n",
            " [-0.07528854 -0.03594617  0.01875294 -0.00932793  0.08893539  0.00783145\n",
            "  -0.00147974  0.00017013]\n",
            " [-0.01098487  0.00797219 -0.00600595  0.00918602  0.00783145  0.05387119\n",
            "  -0.01811303 -0.00860395]\n",
            " [ 0.00323347  0.00025654  0.02920082 -0.01738103 -0.00147974 -0.01811303\n",
            "   0.09831804  0.02703366]\n",
            " [-0.00155793 -0.00392955 -0.01315025 -0.01509612  0.00017013 -0.00860395\n",
            "   0.02703366  0.04535868]]\n"
          ]
        }
      ]
    },
    {
      "cell_type": "markdown",
      "source": [
        "One feature:"
      ],
      "metadata": {
        "id": "HfVfju5kR_qZ"
      }
    },
    {
      "cell_type": "code",
      "source": [
        "# Next, we get the highest eigenvalues and eigenvectors to construct the PCA weights matrix\n",
        "\n",
        "number_of_reduced_features = 1\n",
        "\n",
        "eig_values_1, eig_vectors_1 = np.linalg.eig(Covariance_matrix)\n",
        "print(\"eig_values = \", eig_values_1)\n",
        "print(\"eig_vectors = \", eig_vectors_1)"
      ],
      "metadata": {
        "colab": {
          "base_uri": "https://localhost:8080/"
        },
        "id": "G6AXZBCM2C12",
        "outputId": "211af59b-4d2d-46c0-a7fa-90e2c9d58804"
      },
      "execution_count": null,
      "outputs": [
        {
          "output_type": "stream",
          "name": "stdout",
          "text": [
            "eig_values =  [0.21180384 0.15350738 0.10837635 0.02059126 0.02861757 0.04267438\n",
            " 0.08003516 0.06762894]\n",
            "eig_vectors =  [[-0.65199185 -0.205451    0.00578758 -0.50872115  0.32812505  0.15702513\n",
            "  -0.37513816 -0.02853486]\n",
            " [-0.42371555 -0.05572272  0.20915604 -0.06667133  0.07338802 -0.26100978\n",
            "   0.82489389 -0.12331651]\n",
            " [ 0.16409169 -0.69739918  0.61978997  0.25761218  0.13225356  0.00979331\n",
            "  -0.11804913 -0.06842623]\n",
            " [-0.21074453  0.25878414  0.33456232  0.18981134  0.07163307 -0.09897006\n",
            "  -0.0710373   0.84893142]\n",
            " [ 0.56561485  0.06867303  0.15756365 -0.64534569  0.41070711 -0.11954995\n",
            "   0.15350068  0.16592626]\n",
            " [ 0.02610118  0.20530074  0.25047229 -0.00136165  0.01661383  0.91242881\n",
            "   0.24656474 -0.02890657]\n",
            " [ 0.05049494 -0.58534644 -0.42455404 -0.19332843 -0.3360088   0.20196807\n",
            "   0.24304031  0.47374697]\n",
            " [ 0.02968589 -0.10888148 -0.43856574  0.4248724   0.76319564  0.0985718\n",
            "   0.12811841  0.07621547]]\n"
          ]
        }
      ]
    },
    {
      "cell_type": "code",
      "source": [
        "# Given the above eigen values and vector, we get the following W_PCA matrix\n",
        "\n",
        "W_PCA_1 = np.zeros(shape=(number_of_reduced_features, number_of_features_per_data_point))\n",
        "\n",
        "# we pick the highest two values and their corresponding eigrn values\n",
        "W_PCA_1[0,:] = eig_vectors_1[0,:]\n",
        "\n",
        "print(\"The PCA matrix = \\n\", W_PCA_1)"
      ],
      "metadata": {
        "colab": {
          "base_uri": "https://localhost:8080/"
        },
        "id": "43Bs1lJ8QXmX",
        "outputId": "6ccbba1b-ee56-4b01-b17a-88c950493130"
      },
      "execution_count": null,
      "outputs": [
        {
          "output_type": "stream",
          "name": "stdout",
          "text": [
            "The PCA matrix = \n",
            " [[-0.65199185 -0.205451    0.00578758 -0.50872115  0.32812505  0.15702513\n",
            "  -0.37513816 -0.02853486]]\n"
          ]
        }
      ]
    },
    {
      "cell_type": "code",
      "source": [
        "# Next, for each data point, we get the reduced vector z...\n",
        "\n",
        "reduced_data = np.zeros(shape=(number_of_data_points,1))\n",
        "\n",
        "for data_index in range(number_of_data_points):\n",
        "  reduced_data[data_index,:] = np.matmul(W_PCA_1, data[data_index,:])\n",
        "\n",
        "print(\"The reduced matrix = \", reduced_data)"
      ],
      "metadata": {
        "colab": {
          "base_uri": "https://localhost:8080/"
        },
        "id": "czlyv_zWQY4F",
        "outputId": "bcef4555-2368-421a-b4c7-a81918381a0e"
      },
      "execution_count": null,
      "outputs": [
        {
          "output_type": "stream",
          "name": "stdout",
          "text": [
            "The reduced matrix =  [[ 6.11107988e-01]\n",
            " [ 6.01730844e-01]\n",
            " [-3.30361011e-01]\n",
            " [-6.14118899e-02]\n",
            " [-1.35567122e-01]\n",
            " [ 6.96594161e-02]\n",
            " [ 2.41708706e-01]\n",
            " [-3.85322341e-01]\n",
            " [ 8.85273676e-01]\n",
            " [ 5.63946302e-01]\n",
            " [ 1.88202751e-01]\n",
            " [-1.69388487e-01]\n",
            " [-1.78554341e-01]\n",
            " [ 1.78457263e-01]\n",
            " [-2.25915970e-01]\n",
            " [-2.29003113e-01]\n",
            " [-6.60633441e-01]\n",
            " [-3.06138040e-04]\n",
            " [ 4.59944246e-01]\n",
            " [-5.20292337e-01]]\n"
          ]
        }
      ]
    },
    {
      "cell_type": "markdown",
      "source": [
        "Two features:"
      ],
      "metadata": {
        "id": "gmH0cR4sSCmp"
      }
    },
    {
      "cell_type": "code",
      "source": [
        "# Next, we get the highest eigenvalues and eigenvectors to construct the PCA weights matrix\n",
        "\n",
        "number_of_reduced_features = 2\n",
        "\n",
        "eig_values_2, eig_vectors_2 = np.linalg.eig(Covariance_matrix)\n",
        "print(\"eig_values = \", eig_values_2)\n",
        "print(\"eig_vectors = \", eig_vectors_2)"
      ],
      "metadata": {
        "colab": {
          "base_uri": "https://localhost:8080/"
        },
        "id": "V17NSPAySGZZ",
        "outputId": "92dc8c28-7207-4f32-f7b7-c660f2fbeca6"
      },
      "execution_count": null,
      "outputs": [
        {
          "output_type": "stream",
          "name": "stdout",
          "text": [
            "eig_values =  [0.21180384 0.15350738 0.10837635 0.02059126 0.02861757 0.04267438\n",
            " 0.08003516 0.06762894]\n",
            "eig_vectors =  [[-0.65199185 -0.205451    0.00578758 -0.50872115  0.32812505  0.15702513\n",
            "  -0.37513816 -0.02853486]\n",
            " [-0.42371555 -0.05572272  0.20915604 -0.06667133  0.07338802 -0.26100978\n",
            "   0.82489389 -0.12331651]\n",
            " [ 0.16409169 -0.69739918  0.61978997  0.25761218  0.13225356  0.00979331\n",
            "  -0.11804913 -0.06842623]\n",
            " [-0.21074453  0.25878414  0.33456232  0.18981134  0.07163307 -0.09897006\n",
            "  -0.0710373   0.84893142]\n",
            " [ 0.56561485  0.06867303  0.15756365 -0.64534569  0.41070711 -0.11954995\n",
            "   0.15350068  0.16592626]\n",
            " [ 0.02610118  0.20530074  0.25047229 -0.00136165  0.01661383  0.91242881\n",
            "   0.24656474 -0.02890657]\n",
            " [ 0.05049494 -0.58534644 -0.42455404 -0.19332843 -0.3360088   0.20196807\n",
            "   0.24304031  0.47374697]\n",
            " [ 0.02968589 -0.10888148 -0.43856574  0.4248724   0.76319564  0.0985718\n",
            "   0.12811841  0.07621547]]\n"
          ]
        }
      ]
    },
    {
      "cell_type": "code",
      "source": [
        "# Given the above eigen values and vector, we get the following W_PCA matrix\n",
        "\n",
        "W_PCA_2 = np.zeros(shape=(number_of_reduced_features, number_of_features_per_data_point))\n",
        "\n",
        "# we pick the highest two values and their corresponding eigrn values\n",
        "W_PCA_2[0,:] = eig_vectors_2[0,:]\n",
        "W_PCA_2[1,:] = eig_vectors_2[1,:]\n",
        "\n",
        "print(\"The PCA matrix = \\n\", W_PCA_2)"
      ],
      "metadata": {
        "colab": {
          "base_uri": "https://localhost:8080/"
        },
        "id": "CQsnBHZVSLr1",
        "outputId": "57593ac3-1c8d-430f-d800-f8dc7a3ba6ac"
      },
      "execution_count": null,
      "outputs": [
        {
          "output_type": "stream",
          "name": "stdout",
          "text": [
            "The PCA matrix = \n",
            " [[-0.65199185 -0.205451    0.00578758 -0.50872115  0.32812505  0.15702513\n",
            "  -0.37513816 -0.02853486]\n",
            " [-0.42371555 -0.05572272  0.20915604 -0.06667133  0.07338802 -0.26100978\n",
            "   0.82489389 -0.12331651]]\n"
          ]
        }
      ]
    },
    {
      "cell_type": "code",
      "source": [
        "# Next, for each data point, we get the reduced vector z...\n",
        "\n",
        "reduced_data = np.zeros(shape=(number_of_data_points,2))\n",
        "\n",
        "for data_index in range(number_of_data_points):\n",
        "  reduced_data[data_index,:] = np.matmul(W_PCA_2, data[data_index,:])\n",
        "\n",
        "print(\"The reduced matrix = \", reduced_data)"
      ],
      "metadata": {
        "colab": {
          "base_uri": "https://localhost:8080/"
        },
        "id": "H6lMdy9oSPgF",
        "outputId": "6f825a92-36b8-45cb-ac4b-4ca11967e0ac"
      },
      "execution_count": null,
      "outputs": [
        {
          "output_type": "stream",
          "name": "stdout",
          "text": [
            "The reduced matrix =  [[ 6.11107988e-01  4.10374098e-01]\n",
            " [ 6.01730844e-01 -8.34010335e-02]\n",
            " [-3.30361011e-01 -1.17827117e-01]\n",
            " [-6.14118899e-02 -1.59545774e-01]\n",
            " [-1.35567122e-01 -3.25844126e-01]\n",
            " [ 6.96594161e-02  1.46095354e-01]\n",
            " [ 2.41708706e-01  4.03470459e-01]\n",
            " [-3.85322341e-01 -6.04725954e-02]\n",
            " [ 8.85273676e-01  1.77155571e-01]\n",
            " [ 5.63946302e-01  1.15984111e-01]\n",
            " [ 1.88202751e-01 -3.78795679e-01]\n",
            " [-1.69388487e-01 -7.86425203e-01]\n",
            " [-1.78554341e-01  4.10928214e-01]\n",
            " [ 1.78457263e-01  9.55710003e-02]\n",
            " [-2.25915970e-01  1.29093870e-01]\n",
            " [-2.29003113e-01 -4.20622143e-01]\n",
            " [-6.60633441e-01  3.89802933e-01]\n",
            " [-3.06138040e-04 -1.69537254e-01]\n",
            " [ 4.59944246e-01  6.87138524e-01]\n",
            " [-5.20292337e-01  1.78108209e-01]]\n"
          ]
        }
      ]
    },
    {
      "cell_type": "markdown",
      "source": [
        "Three features:"
      ],
      "metadata": {
        "id": "m1aumorwSD9_"
      }
    },
    {
      "cell_type": "code",
      "source": [
        "# Next, we get the highest eigenvalues and eigenvectors to construct the PCA weights matrix\n",
        "\n",
        "number_of_reduced_features = 3\n",
        "\n",
        "eig_values_3, eig_vectors_3 = np.linalg.eig(Covariance_matrix)\n",
        "print(\"eig_values = \", eig_values_3)\n",
        "print(\"eig_vectors = \", eig_vectors_3)"
      ],
      "metadata": {
        "colab": {
          "base_uri": "https://localhost:8080/"
        },
        "id": "vCO6nfaxSa7H",
        "outputId": "bf2cfe84-7a40-466e-ded1-f75d2970ab95"
      },
      "execution_count": null,
      "outputs": [
        {
          "output_type": "stream",
          "name": "stdout",
          "text": [
            "eig_values =  [0.21180384 0.15350738 0.10837635 0.02059126 0.02861757 0.04267438\n",
            " 0.08003516 0.06762894]\n",
            "eig_vectors =  [[-0.65199185 -0.205451    0.00578758 -0.50872115  0.32812505  0.15702513\n",
            "  -0.37513816 -0.02853486]\n",
            " [-0.42371555 -0.05572272  0.20915604 -0.06667133  0.07338802 -0.26100978\n",
            "   0.82489389 -0.12331651]\n",
            " [ 0.16409169 -0.69739918  0.61978997  0.25761218  0.13225356  0.00979331\n",
            "  -0.11804913 -0.06842623]\n",
            " [-0.21074453  0.25878414  0.33456232  0.18981134  0.07163307 -0.09897006\n",
            "  -0.0710373   0.84893142]\n",
            " [ 0.56561485  0.06867303  0.15756365 -0.64534569  0.41070711 -0.11954995\n",
            "   0.15350068  0.16592626]\n",
            " [ 0.02610118  0.20530074  0.25047229 -0.00136165  0.01661383  0.91242881\n",
            "   0.24656474 -0.02890657]\n",
            " [ 0.05049494 -0.58534644 -0.42455404 -0.19332843 -0.3360088   0.20196807\n",
            "   0.24304031  0.47374697]\n",
            " [ 0.02968589 -0.10888148 -0.43856574  0.4248724   0.76319564  0.0985718\n",
            "   0.12811841  0.07621547]]\n"
          ]
        }
      ]
    },
    {
      "cell_type": "code",
      "source": [
        "# Given the above eigen values and vector, we get the following W_PCA matrix\n",
        "\n",
        "W_PCA_3 = np.zeros(shape=(number_of_reduced_features, number_of_features_per_data_point))\n",
        "\n",
        "# we pick the highest two values and their corresponding eigrn values\n",
        "W_PCA_3[0,:] = eig_vectors_3[0,:]\n",
        "W_PCA_3[1,:] = eig_vectors_3[1,:]\n",
        "W_PCA_3[2,:] = eig_vectors_3[2,:]\n",
        "\n",
        "print(\"The PCA matrix = \\n\", W_PCA_3)"
      ],
      "metadata": {
        "colab": {
          "base_uri": "https://localhost:8080/"
        },
        "id": "G88Yu_ajSgSE",
        "outputId": "ebbd8f81-feec-4812-d951-a9455b9cb836"
      },
      "execution_count": null,
      "outputs": [
        {
          "output_type": "stream",
          "name": "stdout",
          "text": [
            "The PCA matrix = \n",
            " [[-0.65199185 -0.205451    0.00578758 -0.50872115  0.32812505  0.15702513\n",
            "  -0.37513816 -0.02853486]\n",
            " [-0.42371555 -0.05572272  0.20915604 -0.06667133  0.07338802 -0.26100978\n",
            "   0.82489389 -0.12331651]\n",
            " [ 0.16409169 -0.69739918  0.61978997  0.25761218  0.13225356  0.00979331\n",
            "  -0.11804913 -0.06842623]]\n"
          ]
        }
      ]
    },
    {
      "cell_type": "code",
      "source": [
        "# Next, for each data point, we get the reduced vector z...\n",
        "\n",
        "reduced_data = np.zeros(shape=(number_of_data_points,3))\n",
        "\n",
        "for data_index in range(number_of_data_points):\n",
        "  reduced_data[data_index,:] = np.matmul(W_PCA_3, data[data_index,:])\n",
        "\n",
        "print(\"The reduced matrix = \", reduced_data)"
      ],
      "metadata": {
        "colab": {
          "base_uri": "https://localhost:8080/"
        },
        "id": "G0m55id9Sh4t",
        "outputId": "ebdb0bf6-9af4-4e21-d196-8762cb1a82c1"
      },
      "execution_count": null,
      "outputs": [
        {
          "output_type": "stream",
          "name": "stdout",
          "text": [
            "The reduced matrix =  [[ 6.11107988e-01  4.10374098e-01  3.25848830e-01]\n",
            " [ 6.01730844e-01 -8.34010335e-02 -3.01629902e-01]\n",
            " [-3.30361011e-01 -1.17827117e-01 -5.91726102e-02]\n",
            " [-6.14118899e-02 -1.59545774e-01 -3.24366883e-01]\n",
            " [-1.35567122e-01 -3.25844126e-01  1.32415071e-01]\n",
            " [ 6.96594161e-02  1.46095354e-01  8.31789201e-01]\n",
            " [ 2.41708706e-01  4.03470459e-01 -4.50688607e-02]\n",
            " [-3.85322341e-01 -6.04725954e-02  4.68652427e-02]\n",
            " [ 8.85273676e-01  1.77155571e-01  1.96699301e-02]\n",
            " [ 5.63946302e-01  1.15984111e-01  1.51783842e-01]\n",
            " [ 1.88202751e-01 -3.78795679e-01  3.21544701e-01]\n",
            " [-1.69388487e-01 -7.86425203e-01 -1.37813070e-01]\n",
            " [-1.78554341e-01  4.10928214e-01  2.83768552e-01]\n",
            " [ 1.78457263e-01  9.55710003e-02  8.42674826e-02]\n",
            " [-2.25915970e-01  1.29093870e-01 -3.31419331e-01]\n",
            " [-2.29003113e-01 -4.20622143e-01  3.24969223e-01]\n",
            " [-6.60633441e-01  3.89802933e-01 -1.44333879e-01]\n",
            " [-3.06138040e-04 -1.69537254e-01 -5.34227897e-01]\n",
            " [ 4.59944246e-01  6.87138524e-01  5.27652374e-01]\n",
            " [-5.20292337e-01  1.78108209e-01 -7.40102301e-02]]\n"
          ]
        }
      ]
    },
    {
      "cell_type": "markdown",
      "source": [
        "each matrix is made by subtracting the mean vector from the datapoint in order to do the dimensionality reduction on the dataset but maintain as much information as possible. \n",
        "\n",
        "Removing average info to cut down in it's size, as thats where majority of data points will be."
      ],
      "metadata": {
        "id": "gM3s2nfaoTT6"
      }
    }
  ]
}