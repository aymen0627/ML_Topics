{
  "nbformat": 4,
  "nbformat_minor": 0,
  "metadata": {
    "colab": {
      "provenance": [],
      "include_colab_link": true
    },
    "kernelspec": {
      "name": "python3",
      "display_name": "Python 3"
    },
    "language_info": {
      "name": "python"
    }
  },
  "cells": [
    {
      "cell_type": "markdown",
      "metadata": {
        "id": "view-in-github",
        "colab_type": "text"
      },
      "source": [
        "<a href=\"https://colab.research.google.com/github/aymen0627/ML_Topics/blob/main/Group_8_Problem_1.ipynb\" target=\"_parent\"><img src=\"https://colab.research.google.com/assets/colab-badge.svg\" alt=\"Open In Colab\"/></a>"
      ]
    },
    {
      "cell_type": "code",
      "source": [
        "#Aymen Hasnain & Thomas Kipping\n",
        "#Problem1\n",
        "\n",
        "#In this problem, use a linear binary classifier (no activation function) with weight matrix W of size M × F \n",
        "#Choose F = 5 and M = 2 \n",
        "#Generate N = 1000 training data points (each of size F) by using Gaussian PDF with mean of 0 (0.1) and variance of 1 (1) for \n",
        "              #labels belonging to class 0 (1).\n",
        "#errror function  = 0.5(y1(xn)−tn1)^2+0.5(y2(xn)−tn2)^2\n",
        "#k = {1,2}\n",
        "\n",
        "#Choose the learning rate (step size) η = 0.00005 and train for 50 iterations\n",
        "\n",
        "#nitialize the weight matrix W from a uniform PDF with bounds of [−1,1]."
      ],
      "metadata": {
        "id": "gkM9nZhe7lte"
      },
      "execution_count": null,
      "outputs": []
    },
    {
      "cell_type": "code",
      "execution_count": null,
      "metadata": {
        "id": "iwxcyC0u6xMb"
      },
      "outputs": [],
      "source": [
        "\n",
        "import numpy as np\n",
        "np.random.seed(seed=0) #can change seed I guess\n",
        "# dataset with M=2 and F = 5\n",
        "number_of_classes_M = 2\n",
        "number_of_features_F = 5\n",
        "number_of_points_N   = 1000\n",
        "data = []\n",
        "for index in range(number_of_points_N):\n",
        "    random_choice_for_mean = np.random.choice([0,1])\n",
        "    tru_lbl = random_choice_for_mean\n",
        "  # tn = (0,1)⊤ for class 0 and tn = (1,0) for class 1\n",
        "    if tru_lbl == 0:\n",
        "        one_hot_rep = [0,1]\n",
        "        mean = 0\n",
        "    if tru_lbl == 1:\n",
        "        one_hot_rep = [1,0]\n",
        "        mean = 0.1\n",
        "\n",
        "    mean = random_choice_for_mean\n",
        "\n",
        "    data.append((np.random.normal(loc=mean, scale=1, size=(number_of_features_F)), one_hot_rep))"
      ]
    },
    {
      "cell_type": "code",
      "source": [
        "#bounds made -1,1\n",
        "weights = np.random.uniform(low=-1, high=1, size=(number_of_classes_M, number_of_features_F))"
      ],
      "metadata": {
        "id": "kSz-9E0-7CfP"
      },
      "execution_count": null,
      "outputs": []
    },
    {
      "cell_type": "code",
      "source": [
        "############ Obtain the error function w.r.t. all data points.\n",
        "def errof_wrt_all_datapoints(data, weights):\n",
        "\n",
        "    error_fun_wrt_weights_per_point = []\n",
        "\n",
        "    for data_point_index in range(number_of_points_N):\n",
        "\n",
        "        NW_output = np.matmul(weights, data[data_point_index][0])\n",
        "\n",
        "        error =0.5*np.sum((NW_output - data[data_point_index][1])**2)\n",
        "\n",
        "        error_fun_wrt_weights_per_point.append(error)\n",
        "\n",
        "        #print(error)\n",
        "\n",
        "    error_fun_wrt_weights_all_datapoints = sum(error_fun_wrt_weights_per_point)\n",
        "    return error_fun_wrt_weights_all_datapoints"
      ],
      "metadata": {
        "id": "ChVC7XHQ7U-3"
      },
      "execution_count": null,
      "outputs": []
    },
    {
      "cell_type": "code",
      "source": [
        "def gradient_matrix(data, weights):\n",
        "\n",
        "    grad_all = np.zeros(shape=(number_of_classes_M, number_of_features_F, number_of_points_N))\n",
        "\n",
        "    for data_point_index in range(number_of_points_N):\n",
        "        NW_output = np.matmul(weights, data[data_point_index][0])\n",
        "        tru_output = data[data_point_index][1]\n",
        "        training_vec = data[data_point_index][0]\n",
        "        for feature_index in range(number_of_features_F):\n",
        "            for class_index in range(number_of_classes_M):\n",
        "                #sum_temp.append((NW_output[class_index] - tru_output[class_index])*training_vec[feature_index])\n",
        "\n",
        "                grad_all[class_index, feature_index, data_point_index] = (NW_output[class_index] - tru_output[class_index])*training_vec[feature_index]\n",
        "                #grad_all[class_index, feature_index, data_point_index] = (NW_output[class_index] - tru_output[class_index])\n",
        "\n",
        "\n",
        "    grad_matrix = np.zeros(shape=(number_of_classes_M, number_of_features_F))\n",
        "\n",
        "    for feature_index in range(number_of_features_F):\n",
        "        for class_index in range(number_of_classes_M):\n",
        "            grad_matrix[class_index, feature_index] = np.sum(grad_all[class_index, feature_index, :])\n",
        "\n",
        "    return grad_matrix"
      ],
      "metadata": {
        "id": "sRUxoY137VFt"
      },
      "execution_count": null,
      "outputs": []
    },
    {
      "cell_type": "code",
      "source": [
        "######## gradient descent loop:\n",
        "number_of_iterations = 50\n",
        "step_size_eta = 0.00005\n",
        "\n",
        "CA_save = []\n",
        "MSE_save = []\n",
        "\n",
        "for iter in range(number_of_iterations):\n",
        "\n",
        "    grad_mat = gradient_matrix(data, weights)\n",
        "\n",
        "    weights = weights - (step_size_eta * grad_mat)\n",
        "\n",
        "    MSE_err = errof_wrt_all_datapoints(data, weights)\n",
        "\n",
        "    # get the training classification accuracy\n",
        "    ca_cnt = 0\n",
        "    for data_point_index in range(number_of_points_N):\n",
        "        NW_output = np.matmul(weights, data[data_point_index][0])\n",
        "        pred_class = np.argmax(NW_output)\n",
        "        tru_class = np.argmax(data[data_point_index][1])\n",
        "        if pred_class == tru_class:\n",
        "            ca_cnt = ca_cnt + 1\n",
        "\n",
        "    print(\"iteration {} - MSE = {} - training CA {}\".format(iter, MSE_err, 100*ca_cnt/number_of_points_N))\n",
        "\n",
        "    CA_save.append(100*ca_cnt/number_of_points_N)\n",
        "    MSE_save.append(MSE_err)\n",
        "    "
      ],
      "metadata": {
        "colab": {
          "base_uri": "https://localhost:8080/"
        },
        "id": "b_Ps8gox7VLm",
        "outputId": "021e4adc-e3c9-4c4b-dd66-7c0e56c48b48"
      },
      "execution_count": null,
      "outputs": [
        {
          "output_type": "stream",
          "name": "stdout",
          "text": [
            "iteration 0 - MSE = 3368.6539706846256 - training CA 37.0\n",
            "iteration 1 - MSE = 2866.5323367430306 - training CA 39.8\n",
            "iteration 2 - MSE = 2479.2652511687666 - training CA 43.6\n",
            "iteration 3 - MSE = 2174.3655612659168 - training CA 45.1\n",
            "iteration 4 - MSE = 1929.3968964671274 - training CA 47.2\n",
            "iteration 5 - MSE = 1728.7673338223456 - training CA 48.8\n",
            "iteration 6 - MSE = 1561.5559053981308 - training CA 51.2\n",
            "iteration 7 - MSE = 1420.0382436332104 - training CA 52.6\n",
            "iteration 8 - MSE = 1298.6855774340975 - training CA 54.3\n",
            "iteration 9 - MSE = 1193.484299401459 - training CA 55.4\n",
            "iteration 10 - MSE = 1101.4727165137424 - training CA 56.3\n",
            "iteration 11 - MSE = 1020.4250126716892 - training CA 57.0\n",
            "iteration 12 - MSE = 948.6350599242384 - training CA 57.6\n",
            "iteration 13 - MSE = 884.7680121583841 - training CA 58.4\n",
            "iteration 14 - MSE = 827.7579656768477 - training CA 60.0\n",
            "iteration 15 - MSE = 776.7369753970855 - training CA 60.6\n",
            "iteration 16 - MSE = 730.9854557648401 - training CA 61.2\n",
            "iteration 17 - MSE = 689.8972041148531 - training CA 61.7\n",
            "iteration 18 - MSE = 652.9544564885456 - training CA 62.7\n",
            "iteration 19 - MSE = 619.7098569503335 - training CA 63.8\n",
            "iteration 20 - MSE = 589.7732179467624 - training CA 64.5\n",
            "iteration 21 - MSE = 562.8016246094672 - training CA 65.0\n",
            "iteration 22 - MSE = 538.4918938879932 - training CA 65.4\n",
            "iteration 23 - MSE = 516.5747102250969 - training CA 65.8\n",
            "iteration 24 - MSE = 496.8099706639534 - training CA 66.7\n",
            "iteration 25 - MSE = 478.98301595223654 - training CA 67.4\n",
            "iteration 26 - MSE = 462.9015221393022 - training CA 67.7\n",
            "iteration 27 - MSE = 448.3928940754283 - training CA 68.1\n",
            "iteration 28 - MSE = 435.30204808576553 - training CA 68.9\n",
            "iteration 29 - MSE = 423.4895026564809 - training CA 70.1\n",
            "iteration 30 - MSE = 412.8297178091994 - training CA 71.3\n",
            "iteration 31 - MSE = 403.2096390506301 - training CA 72.1\n",
            "iteration 32 - MSE = 394.52741246810405 - training CA 72.6\n",
            "iteration 33 - MSE = 386.69124512407495 - training CA 72.7\n",
            "iteration 34 - MSE = 379.6183903517688 - training CA 73.0\n",
            "iteration 35 - MSE = 373.2342415283721 - training CA 73.3\n",
            "iteration 36 - MSE = 367.47152085021787 - training CA 73.7\n",
            "iteration 37 - MSE = 362.26955186250524 - training CA 74.4\n",
            "iteration 38 - MSE = 357.5736062139805 - training CA 74.7\n",
            "iteration 39 - MSE = 353.33431645891534 - training CA 75.4\n",
            "iteration 40 - MSE = 349.50714781426973 - training CA 75.7\n",
            "iteration 41 - MSE = 346.05192266826924 - training CA 75.7\n",
            "iteration 42 - MSE = 342.93239237648993 - training CA 75.7\n",
            "iteration 43 - MSE = 340.11585150702433 - training CA 75.9\n",
            "iteration 44 - MSE = 337.57279023221474 - training CA 76.2\n",
            "iteration 45 - MSE = 335.27658102844657 - training CA 76.2\n",
            "iteration 46 - MSE = 333.2031962510079 - training CA 76.2\n",
            "iteration 47 - MSE = 331.3309535076997 - training CA 75.9\n",
            "iteration 48 - MSE = 329.6402860705632 - training CA 76.1\n",
            "iteration 49 - MSE = 328.11353584559885 - training CA 75.9\n"
          ]
        }
      ]
    },
    {
      "cell_type": "code",
      "source": [
        "import matplotlib as mpl\n",
        "import matplotlib.pyplot as plt\n",
        "import numpy as np\n",
        "\n",
        "# define the axes\n",
        "x_axis = list(range(number_of_iterations))\n",
        "y_axis_CA = CA_save\n",
        "y_axis_MSE = MSE_save\n",
        "\n",
        "fig, axs = plt.subplots(2)\n",
        "fig.suptitle('Total training MSE and the Classification Accuracy.')\n",
        "axs[0].plot(x_axis, y_axis_CA)\n",
        "axs[1].plot(x_axis, y_axis_MSE)\n"
      ],
      "metadata": {
        "colab": {
          "base_uri": "https://localhost:8080/",
          "height": 311
        },
        "id": "yzAnKcwV7VRR",
        "outputId": "178dd1e7-cbc4-46f4-91a6-b16b0be497fb"
      },
      "execution_count": null,
      "outputs": [
        {
          "output_type": "execute_result",
          "data": {
            "text/plain": [
              "[<matplotlib.lines.Line2D at 0x7f7df8dba460>]"
            ]
          },
          "metadata": {},
          "execution_count": 7
        },
        {
          "output_type": "display_data",
          "data": {
            "text/plain": [
              "<Figure size 432x288 with 2 Axes>"
            ],
            "image/png": "[encoded data removed]"
          },
          "metadata": {
            "needs_background": "light"
          }
        }
      ]
    }
  ]
}