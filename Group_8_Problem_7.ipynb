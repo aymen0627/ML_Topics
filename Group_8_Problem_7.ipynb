{
  "nbformat": 4,
  "nbformat_minor": 0,
  "metadata": {
    "colab": {
      "provenance": [],
      "include_colab_link": true
    },
    "kernelspec": {
      "name": "python3",
      "display_name": "Python 3"
    },
    "language_info": {
      "name": "python"
    }
  },
  "cells": [
    {
      "cell_type": "markdown",
      "metadata": {
        "id": "view-in-github",
        "colab_type": "text"
      },
      "source": [
        "<a href=\"https://colab.research.google.com/github/aymen0627/ML_Topics/blob/Applications/Group_8_Problem_7.ipynb\" target=\"_parent\"><img src=\"https://colab.research.google.com/assets/colab-badge.svg\" alt=\"Open In Colab\"/></a>"
      ]
    },
    {
      "cell_type": "code",
      "execution_count": null,
      "metadata": {
        "id": "baHeHjHvFzP3"
      },
      "outputs": [],
      "source": [
        "\n",
        "#Problem 7"
      ]
    },
    {
      "cell_type": "code",
      "source": [
        "\"\"\"\n",
        "\n",
        "In this problem, assume that the output of a network is given by h(x) = wT x, where\n",
        "w = [−0.2 − 0.4 0 0.4 0.2]T\n",
        "Using η = −y ϵ sign(w), find the minimum required perturbations\n",
        "(approximately) to fool the two test examples below by searching within the window of allowed\n",
        "perturbations of [0.001, 0.500] (use a step of 0.001). The first (second) vector has a true label of +1\n",
        "(-1).\n",
        "\"\"\""
      ],
      "metadata": {
        "id": "tnGyiehjF4me",
        "colab": {
          "base_uri": "https://localhost:8080/",
          "height": 52
        },
        "outputId": "9abc2c41-22dc-43e8-b7d6-ac510ff4997c"
      },
      "execution_count": null,
      "outputs": [
        {
          "output_type": "execute_result",
          "data": {
            "text/plain": [
              "'\\n\\nIn this problem, assume that the output of a network is given by h(x) = wT x, where\\nw = [−0.2 − 0.4 0 0.4 0.2]T\\nUsing η = −y ϵ sign(w), find the minimum required perturbations\\n(approximately) to fool the two test examples below by searching within the window of allowed\\nperturbations of [0.001, 0.500] (use a step of 0.001). The first (second) vector has a true label of +1\\n(-1).\\n'"
            ],
            "application/vnd.google.colaboratory.intrinsic+json": {
              "type": "string"
            }
          },
          "metadata": {},
          "execution_count": 1
        }
      ]
    },
    {
      "cell_type": "code",
      "source": [
        "\"\"\"\n",
        "a = [−0.04046774 − 0.05453599 − 0.15464773 0.09823674 − 0.11010676]T\n",
        "\n",
        "b = [0.07450563 0.19761108 − 0.12441233 − 0.06264169 − 0.08037661]T\n",
        "\n",
        "\"\"\""
      ],
      "metadata": {
        "id": "oOaLiZGr-pjz",
        "colab": {
          "base_uri": "https://localhost:8080/",
          "height": 35
        },
        "outputId": "f771c559-b000-402f-aa2a-51cf5afd4b2c"
      },
      "execution_count": null,
      "outputs": [
        {
          "output_type": "execute_result",
          "data": {
            "text/plain": [
              "'\\na = [−0.04046774 − 0.05453599 − 0.15464773 0.09823674 − 0.11010676]T\\n\\nb = [0.07450563 0.19761108 − 0.12441233 − 0.06264169 − 0.08037661]T\\n\\n'"
            ],
            "application/vnd.google.colaboratory.intrinsic+json": {
              "type": "string"
            }
          },
          "metadata": {},
          "execution_count": 2
        }
      ]
    },
    {
      "cell_type": "code",
      "execution_count": null,
      "metadata": {
        "id": "GtjUuoTmsCwe"
      },
      "outputs": [],
      "source": [
        "import numpy as np\n",
        "import matplotlib.pyplot as plt"
      ]
    },
    {
      "cell_type": "code",
      "source": [
        "# Assume that the output of a NN is given as h(x) = w^T x\n",
        "number_of_features = 5\n",
        "w = np.transpose(np.array([-0.2, -0.4, 0, 0.4, 0.2]))\n",
        "\n",
        "a = np.array([-0.04046774, -0.05453599, -0.15464773, 0.09823674, -0.11010676])\n",
        "b = np.array([0.07450563, 0.19761108, -0.12441233, -0.06264169, -0.08037661])\n",
        "\n",
        "print(\"The shape of the weight vector is = \", w.shape)\n",
        "print(\"The weight vector is = \", w)"
      ],
      "metadata": {
        "colab": {
          "base_uri": "https://localhost:8080/"
        },
        "id": "k1pV2FKnsFT0",
        "outputId": "b841f5f8-fe0e-4809-8e9d-cab2c90edf8e"
      },
      "execution_count": null,
      "outputs": [
        {
          "output_type": "stream",
          "name": "stdout",
          "text": [
            "The shape of the weight vector is =  (5,)\n",
            "The weight vector is =  [-0.2 -0.4  0.   0.4  0.2]\n"
          ]
        }
      ]
    },
    {
      "cell_type": "code",
      "source": [
        "def h(x, w):\n",
        "    return np.dot(w, x)\n",
        "def l(h, y):\n",
        "    return np.log(1 + np.exp(-y*h))\n",
        "def eta(y, x, w):\n",
        "    return -y * np.dot(x, w)"
      ],
      "metadata": {
        "id": "4M9bGHoe-HEM"
      },
      "execution_count": null,
      "outputs": []
    },
    {
      "cell_type": "code",
      "source": [
        "# Assume that we have a testing data point given along with its true label:\n",
        "np.random.seed(seed=3)\n",
        "x_test_sample = np.random.normal(loc = 0.0, scale=0.1, size=(number_of_features,))\n",
        "\n",
        "# we can infer the predicted label by first computing the output as\n",
        "output_h = h(x_test_sample,w)\n",
        "\n",
        "# use a signum function or a logic to get the preducted label as\n",
        "predicted_label = np.sign(output_h)\n",
        "\n",
        "# we can define a prediction model that returns the output_value, and the predicted label\n",
        "def pred_model(weights_vector, input_sample):\n",
        "  output_h = h(input_sample,weights_vector)\n",
        "  predicted_label = np.sign(output_h)\n",
        "  return output_h, predicted_label\n",
        "  \n",
        "\n",
        "print(\"The test sample is \", x_test_sample)\n",
        "print(\"The test sample output is \", [output_h])\n",
        "print(\"The test sample predicted label is \", [predicted_label])"
      ],
      "metadata": {
        "colab": {
          "base_uri": "https://localhost:8080/"
        },
        "id": "7xeHsmqRswHC",
        "outputId": "3f367ec2-9b17-4d7f-b6fc-4633c3462916"
      },
      "execution_count": null,
      "outputs": [
        {
          "output_type": "stream",
          "name": "stdout",
          "text": [
            "The test sample is  [ 0.17886285  0.04365099  0.00964975 -0.18634927 -0.02773882]\n",
            "The test sample output is  [-0.13332043567395357]\n",
            "The test sample predicted label is  [-1.0]\n"
          ]
        }
      ]
    },
    {
      "cell_type": "markdown",
      "source": [
        "Next, we use $\\eta = -y~\\epsilon~\\text{sign}(w)$ to fool the network w.r.t. the test example. We will use different values of $\\epsilon$ to induce the label changing."
      ],
      "metadata": {
        "id": "F0qo8hEyvVu2"
      }
    },
    {
      "cell_type": "code",
      "source": [
        "# define some range of values for the allowed perturbations\n",
        "eps = np.arange(0.001, 0.501, 0.001)\n",
        "x = [a, b]\n",
        "y = [1, -1]\n",
        "for i in range(len(x)):\n",
        "  plt.figure(i)\n",
        "  plt.title('x' + str(i+1))\n",
        "  plt.xlabel('eps')\n",
        "  plt.ylabel('value')\n",
        "  plt.plot(eps, [h(x[i] + e*np.sign(w), w) for e in eps], label='h(xadv)')\n",
        "  plt.plot(eps, [np.sign(h(x[i] + e*np.sign(w), w)) for e in eps], label='predicted label')\n",
        "  plt.plot(eps, [l(h(x[i] + e*np.sign(w), w), y[i]) for e in eps], label='loss')\n",
        "  plt.legend()\n",
        "plt.show()\n",
        "#min permutations found by using each index of X adjusted by each signed epsilon with each weight passing it into the output of the network\n",
        "#slightly adjusting X based on epsilon and the signum of the weight and passing that back into the output network\n",
        "#and then comparing that against the labels to find the loss\n",
        "#result shown in graph below"
      ],
      "metadata": {
        "colab": {
          "base_uri": "https://localhost:8080/",
          "height": 573
        },
        "id": "4_x8v9DsvB7I",
        "outputId": "60c15292-0ef9-4390-949d-9887fa866b97"
      },
      "execution_count": null,
      "outputs": [
        {
          "output_type": "display_data",
          "data": {
            "text/plain": [
              "<Figure size 432x288 with 1 Axes>"
            ],
            "image/png": "[encoded data removed]"
          },
          "metadata": {
            "needs_background": "light"
          }
        },
        {
          "output_type": "display_data",
          "data": {
            "text/plain": [
              "<Figure size 432x288 with 1 Axes>"
            ],
            "image/png": "[encoded data removed]"
          },
          "metadata": {
            "needs_background": "light"
          }
        }
      ]
    },
    {
      "cell_type": "code",
      "source": [],
      "metadata": {
        "id": "F6LS7nsyDB1-"
      },
      "execution_count": null,
      "outputs": []
    }
  ]
}